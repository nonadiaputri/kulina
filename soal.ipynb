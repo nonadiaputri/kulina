{
 "cells": [
  {
   "cell_type": "code",
   "execution_count": 136,
   "metadata": {},
   "outputs": [],
   "source": [
    "import pandas as pd\n",
    "from datetime import date\n",
    "import datetime as dt\n",
    "import numpy as np"
   ]
  },
  {
   "cell_type": "code",
   "execution_count": 137,
   "metadata": {},
   "outputs": [],
   "source": [
    "dict = {\n",
    "\"ID\":[1, 2, 3],\n",
    "\"FullName\":[\"Stan Smith\", \"Nikola Griffin\", \"Ruby Moore\"],\n",
    "\"Gender\":[\"Male\", \"Male\", \"Female\"],\n",
    "\"DateOfBirth\":[\"1980-02-10\", \"2005-12-20\", \"1946-03-03\"] }"
   ]
  },
  {
   "cell_type": "code",
   "execution_count": 138,
   "metadata": {},
   "outputs": [
    {
     "name": "stdout",
     "output_type": "stream",
     "text": [
      "   ID        FullName  Gender DateOfBirth\n",
      "0   1      Stan Smith    Male  1980-02-10\n",
      "1   2  Nikola Griffin    Male  2005-12-20\n",
      "2   3      Ruby Moore  Female  1946-03-03\n"
     ]
    }
   ],
   "source": [
    "person = pd.DataFrame(dict)\n",
    "print(person)"
   ]
  },
  {
   "cell_type": "code",
   "execution_count": 125,
   "metadata": {},
   "outputs": [
    {
     "name": "stdout",
     "output_type": "stream",
     "text": [
      "<class 'pandas.core.frame.DataFrame'>\n",
      "RangeIndex: 3 entries, 0 to 2\n",
      "Data columns (total 4 columns):\n",
      " #   Column       Non-Null Count  Dtype \n",
      "---  ------       --------------  ----- \n",
      " 0   ID           3 non-null      int64 \n",
      " 1   FullName     3 non-null      object\n",
      " 2   Gender       3 non-null      object\n",
      " 3   DateOfBirth  3 non-null      object\n",
      "dtypes: int64(1), object(3)\n",
      "memory usage: 224.0+ bytes\n"
     ]
    }
   ],
   "source": [
    "person.info()"
   ]
  },
  {
   "cell_type": "code",
   "execution_count": 139,
   "metadata": {},
   "outputs": [
    {
     "name": "stdout",
     "output_type": "stream",
     "text": [
      "<class 'pandas.core.frame.DataFrame'>\n",
      "RangeIndex: 3 entries, 0 to 2\n",
      "Data columns (total 4 columns):\n",
      " #   Column       Non-Null Count  Dtype         \n",
      "---  ------       --------------  -----         \n",
      " 0   ID           3 non-null      int64         \n",
      " 1   FullName     3 non-null      object        \n",
      " 2   Gender       3 non-null      object        \n",
      " 3   DateOfBirth  3 non-null      datetime64[ns]\n",
      "dtypes: datetime64[ns](1), int64(1), object(2)\n",
      "memory usage: 224.0+ bytes\n"
     ]
    }
   ],
   "source": [
    "person['DateOfBirth'] = pd.to_datetime(person['DateOfBirth'])\n",
    "person.info()"
   ]
  },
  {
   "cell_type": "code",
   "execution_count": 134,
   "metadata": {},
   "outputs": [
    {
     "name": "stdout",
     "output_type": "stream",
     "text": [
      "<class 'pandas.core.frame.DataFrame'>\n",
      "RangeIndex: 3 entries, 0 to 2\n",
      "Data columns (total 5 columns):\n",
      " #   Column       Non-Null Count  Dtype         \n",
      "---  ------       --------------  -----         \n",
      " 0   ID           3 non-null      int64         \n",
      " 1   FullName     3 non-null      object        \n",
      " 2   Gender       3 non-null      object        \n",
      " 3   DateOfBirth  3 non-null      datetime64[ns]\n",
      " 4   Age          3 non-null      int64         \n",
      "dtypes: datetime64[ns](1), int64(2), object(2)\n",
      "memory usage: 248.0+ bytes\n"
     ]
    }
   ],
   "source": [
    "now = pd.to_datetime('now')\n",
    "now\n",
    "\n",
    "person['Age'] = (now.year - person['DateOfBirth'].dt.year) - ((now.month - person['DateOfBirth'].dt.month) < 0)\n",
    "person\n",
    "person.info()"
   ]
  },
  {
   "cell_type": "code",
   "execution_count": 135,
   "metadata": {},
   "outputs": [
    {
     "data": {
      "text/html": [
       "<div>\n",
       "<style scoped>\n",
       "    .dataframe tbody tr th:only-of-type {\n",
       "        vertical-align: middle;\n",
       "    }\n",
       "\n",
       "    .dataframe tbody tr th {\n",
       "        vertical-align: top;\n",
       "    }\n",
       "\n",
       "    .dataframe thead th {\n",
       "        text-align: right;\n",
       "    }\n",
       "</style>\n",
       "<table border=\"1\" class=\"dataframe\">\n",
       "  <thead>\n",
       "    <tr style=\"text-align: right;\">\n",
       "      <th></th>\n",
       "      <th>ID</th>\n",
       "      <th>FullName</th>\n",
       "      <th>Gender</th>\n",
       "      <th>DateOfBirth</th>\n",
       "      <th>Age</th>\n",
       "    </tr>\n",
       "  </thead>\n",
       "  <tbody>\n",
       "    <tr>\n",
       "      <th>0</th>\n",
       "      <td>1</td>\n",
       "      <td>Stan Smith</td>\n",
       "      <td>Male</td>\n",
       "      <td>1980-02-10</td>\n",
       "      <td>Adult</td>\n",
       "    </tr>\n",
       "    <tr>\n",
       "      <th>1</th>\n",
       "      <td>2</td>\n",
       "      <td>Nikola Griffin</td>\n",
       "      <td>Male</td>\n",
       "      <td>2005-12-20</td>\n",
       "      <td>Teen</td>\n",
       "    </tr>\n",
       "    <tr>\n",
       "      <th>2</th>\n",
       "      <td>3</td>\n",
       "      <td>Ruby Moore</td>\n",
       "      <td>Female</td>\n",
       "      <td>1946-03-03</td>\n",
       "      <td>Senior Adult</td>\n",
       "    </tr>\n",
       "  </tbody>\n",
       "</table>\n",
       "</div>"
      ],
      "text/plain": [
       "   ID        FullName  Gender DateOfBirth           Age\n",
       "0   1      Stan Smith    Male  1980-02-10         Adult\n",
       "1   2  Nikola Griffin    Male  2005-12-20          Teen\n",
       "2   3      Ruby Moore  Female  1946-03-03  Senior Adult"
      ]
     },
     "execution_count": 135,
     "metadata": {},
     "output_type": "execute_result"
    }
   ],
   "source": [
    "\n",
    "conditions = [\n",
    "    (person['Age'] <= 18) & (person['Age']>=13),\n",
    "    (person['Age'] <= 59) & (person['Age']>=19),\n",
    "    (person['Age'] >= 60)\n",
    "     ]\n",
    "choices = ['Teen', 'Adult', 'Senior Adult']\n",
    "person['Age'] = np.select(conditions, choices)\n",
    "person"
   ]
  },
  {
   "cell_type": "code",
   "execution_count": 148,
   "metadata": {},
   "outputs": [
    {
     "name": "stdout",
     "output_type": "stream",
     "text": [
      "<class 'pandas.core.frame.DataFrame'>\n",
      "RangeIndex: 3 entries, 0 to 2\n",
      "Data columns (total 5 columns):\n",
      " #   Column       Non-Null Count  Dtype         \n",
      "---  ------       --------------  -----         \n",
      " 0   ID           3 non-null      int64         \n",
      " 1   FullName     3 non-null      object        \n",
      " 2   Gender       3 non-null      object        \n",
      " 3   DateOfBirth  3 non-null      datetime64[ns]\n",
      " 4   Age          3 non-null      int64         \n",
      "dtypes: datetime64[ns](1), int64(2), object(2)\n",
      "memory usage: 248.0+ bytes\n"
     ]
    }
   ],
   "source": [
    "\n",
    "now = pd.to_datetime('now')\n",
    "person['Age'] = (now.year - person['DateOfBirth'].dt.year) - ((now.month - person['DateOfBirth'].dt.month) < 0)\n",
    "person\n",
    "person.info()"
   ]
  },
  {
   "cell_type": "code",
   "execution_count": 149,
   "metadata": {},
   "outputs": [
    {
     "name": "stdout",
     "output_type": "stream",
     "text": [
      "[40 15 74]\n"
     ]
    },
    {
     "data": {
      "text/html": [
       "<div>\n",
       "<style scoped>\n",
       "    .dataframe tbody tr th:only-of-type {\n",
       "        vertical-align: middle;\n",
       "    }\n",
       "\n",
       "    .dataframe tbody tr th {\n",
       "        vertical-align: top;\n",
       "    }\n",
       "\n",
       "    .dataframe thead th {\n",
       "        text-align: right;\n",
       "    }\n",
       "</style>\n",
       "<table border=\"1\" class=\"dataframe\">\n",
       "  <thead>\n",
       "    <tr style=\"text-align: right;\">\n",
       "      <th></th>\n",
       "      <th>ID</th>\n",
       "      <th>FullName</th>\n",
       "      <th>Gender</th>\n",
       "      <th>DateOfBirth</th>\n",
       "      <th>Age</th>\n",
       "    </tr>\n",
       "  </thead>\n",
       "  <tbody>\n",
       "    <tr>\n",
       "      <th>0</th>\n",
       "      <td>1</td>\n",
       "      <td>Stan Smith</td>\n",
       "      <td>Male</td>\n",
       "      <td>1980-02-10</td>\n",
       "      <td>Adult</td>\n",
       "    </tr>\n",
       "    <tr>\n",
       "      <th>1</th>\n",
       "      <td>2</td>\n",
       "      <td>Nikola Griffin</td>\n",
       "      <td>Male</td>\n",
       "      <td>2005-12-20</td>\n",
       "      <td>Teen</td>\n",
       "    </tr>\n",
       "    <tr>\n",
       "      <th>2</th>\n",
       "      <td>3</td>\n",
       "      <td>Ruby Moore</td>\n",
       "      <td>Female</td>\n",
       "      <td>1946-03-03</td>\n",
       "      <td>Senior Adult</td>\n",
       "    </tr>\n",
       "  </tbody>\n",
       "</table>\n",
       "</div>"
      ],
      "text/plain": [
       "   ID        FullName  Gender DateOfBirth           Age\n",
       "0   1      Stan Smith    Male  1980-02-10         Adult\n",
       "1   2  Nikola Griffin    Male  2005-12-20          Teen\n",
       "2   3      Ruby Moore  Female  1946-03-03  Senior Adult"
      ]
     },
     "execution_count": 149,
     "metadata": {},
     "output_type": "execute_result"
    }
   ],
   "source": [
    "def count_age(DateOfBirth):\n",
    "    now = pd.to_datetime('now')\n",
    "    age = (now.year - person['DateOfBirth'].dt.year) - ((now.month - person['DateOfBirth'].dt.month) < 0)\n",
    "    age_list = age.values\n",
    "    print(age_list)\n",
    "    new_list = []\n",
    "    for age in age_list: \n",
    "        if (age <= 18) & (age >=13):\n",
    "            new_list.append(\"Teen\")\n",
    "        elif (age <= 59) & (age >= 19):\n",
    "            new_list.append(\"Adult\")\n",
    "        elif (age >= 60):\n",
    "            new_list.append(\"Senior Adult\")\n",
    "    return new_list\n",
    "\n",
    "person['Age'] = count_age(person)\n",
    "person\n",
    "    "
   ]
  },
  {
   "cell_type": "code",
   "execution_count": null,
   "metadata": {},
   "outputs": [],
   "source": []
  }
 ],
 "metadata": {
  "kernelspec": {
   "display_name": "Python 3",
   "language": "python",
   "name": "python3"
  },
  "language_info": {
   "codemirror_mode": {
    "name": "ipython",
    "version": 3
   },
   "file_extension": ".py",
   "mimetype": "text/x-python",
   "name": "python",
   "nbconvert_exporter": "python",
   "pygments_lexer": "ipython3",
   "version": "3.7.6"
  }
 },
 "nbformat": 4,
 "nbformat_minor": 4
}
